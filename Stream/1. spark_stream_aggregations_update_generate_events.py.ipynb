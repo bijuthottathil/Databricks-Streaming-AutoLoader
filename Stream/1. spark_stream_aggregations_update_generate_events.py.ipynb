{
 "cells": [
  {
   "cell_type": "code",
   "execution_count": 0,
   "metadata": {
    "application/vnd.databricks.v1+cell": {
     "cellMetadata": {
      "byteLimit": 2048000,
      "rowLimit": 10000
     },
     "inputWidgets": {},
     "nuid": "8768f389-af32-4db5-8088-fec2e679a396",
     "showTitle": false,
     "tableResultSettingsMap": {},
     "title": ""
    }
   },
   "outputs": [],
   "source": [
    "!pip install faker\n",
    "\n",
    "# COMMAND ----------\n",
    "\n",
    "# MAGIC %md\n",
    "# MAGIC ## Imports\n",
    "\n",
    "# COMMAND ----------\n",
    "\n",
    "from pyspark.sql import Row, SparkSession\n",
    "from pyspark.sql.types import StructType\n",
    "from datetime import datetime, timedelta\n",
    "from faker import Faker\n",
    "import random\n",
    "import time"
   ]
  },
  {
   "cell_type": "code",
   "execution_count": 0,
   "metadata": {
    "application/vnd.databricks.v1+cell": {
     "cellMetadata": {
      "byteLimit": 2048000,
      "rowLimit": 10000
     },
     "inputWidgets": {},
     "nuid": "8bed7efa-31bc-4452-9f54-d8b9ddbf527e",
     "showTitle": false,
     "tableResultSettingsMap": {},
     "title": ""
    }
   },
   "outputs": [],
   "source": [
    "%restart_python "
   ]
  },
  {
   "cell_type": "code",
   "execution_count": 0,
   "metadata": {
    "application/vnd.databricks.v1+cell": {
     "cellMetadata": {
      "byteLimit": 2048000,
      "rowLimit": 10000
     },
     "inputWidgets": {},
     "nuid": "5d7d1379-b2af-49f5-b3fe-d8d4910d1295",
     "showTitle": false,
     "tableResultSettingsMap": {},
     "title": ""
    }
   },
   "outputs": [],
   "source": [
    "from pyspark.sql import Row, SparkSession\n",
    "from pyspark.sql.types import StructType\n",
    "from datetime import datetime, timedelta\n",
    "from faker import Faker\n",
    "import random\n",
    "import time"
   ]
  },
  {
   "cell_type": "code",
   "execution_count": 0,
   "metadata": {
    "application/vnd.databricks.v1+cell": {
     "cellMetadata": {
      "byteLimit": 2048000,
      "rowLimit": 10000
     },
     "inputWidgets": {},
     "nuid": "56740d0f-a8da-4c06-bbf9-bec2f7e766bd",
     "showTitle": false,
     "tableResultSettingsMap": {},
     "title": ""
    }
   },
   "outputs": [],
   "source": [
    "catalog_dot_database_name = \"my_catalog.events\""
   ]
  },
  {
   "cell_type": "code",
   "execution_count": 0,
   "metadata": {
    "application/vnd.databricks.v1+cell": {
     "cellMetadata": {
      "byteLimit": 2048000,
      "rowLimit": 10000
     },
     "inputWidgets": {},
     "nuid": "fa60f255-4bfb-45b9-af6d-fbeb5321db28",
     "showTitle": false,
     "tableResultSettingsMap": {},
     "title": ""
    }
   },
   "outputs": [],
   "source": [
    "def generate_data(catalog_dot_database_name):\n",
    "    fake = Faker()\n",
    "\n",
    "    def random_time_within_6_hours(base_time):\n",
    "        return base_time + timedelta(hours=random.randint(0, 6))\n",
    "\n",
    "    base_time = datetime.now()\n",
    "\n",
    "    # Number of unique request_ids\n",
    "    num_unique_request_ids = 100\n",
    "    request_ids = [fake.uuid4() for _ in range(num_unique_request_ids)]\n",
    "\n",
    "    num_records = 600\n",
    "    data = []\n",
    "\n",
    "    for _ in range(num_records):\n",
    "        chosen_request_id = random.choice(request_ids)\n",
    "        event_time = random_time_within_6_hours(base_time)\n",
    "\n",
    "        row = Row(\n",
    "            event_ts=event_time,\n",
    "            delivery_receipt_id=fake.uuid4(),\n",
    "            gesture_ad_id=fake.uuid4(),\n",
    "            gesture_type=fake.word(),\n",
    "            ad_id=fake.uuid4(),\n",
    "            ad_group_id=fake.uuid4(),\n",
    "            ad_group_payment_type=fake.word(),\n",
    "            consumer_id=fake.uuid4(),\n",
    "            request_type=fake.word(),\n",
    "            placement_id=fake.uuid4(),\n",
    "            cpu=fake.word(),\n",
    "            conversion_id=fake.uuid4(),\n",
    "            client_impression_tracking=fake.url(),\n",
    "            banner_id=fake.uuid4(),\n",
    "            banner_details_id=fake.uuid4(),\n",
    "            video_id=fake.uuid4(),\n",
    "            datekey=event_time.strftime(\"%Y%m%d\"),\n",
    "            request_id=chosen_request_id,\n",
    "            allocation=fake.word(),\n",
    "            rtb_bid_price=fake.random_number(digits=5),\n",
    "            rtb_auction_price=fake.random_number(digits=5),\n",
    "            rtb_auction_unit=fake.word(),\n",
    "            rtb_bid_id=fake.uuid4(),\n",
    "            rtb_bid_impression_id=fake.uuid4(),\n",
    "            is_behavioral_targeted=fake.word(),\n",
    "            assigned_hhid=fake.uuid4(),\n",
    "            assigned_hhid_dma=fake.word(),\n",
    "            parent_adgroup_id=fake.uuid4(),\n",
    "            external_hhid=fake.uuid4(),\n",
    "            matched_deal_id=fake.uuid4(),\n",
    "            matched_datasource_segments=fake.word(),\n",
    "            matched_device_segments=fake.word(),\n",
    "            referer_url=fake.url(),\n",
    "            viewability_tag_added=fake.word(),\n",
    "            ip_addresses=fake.ipv4(),\n",
    "        )\n",
    "        data.append(row)\n",
    "\n",
    "    event_schema = StructType().add(\"event_ts\", \"timestamp\")\\\n",
    "        .add(\"delivery_receipt_id\", \"string\")\\\n",
    "        .add(\"gesture_ad_id\", \"string\")\\\n",
    "        .add(\"gesture_type\", \"string\")\\\n",
    "        .add(\"ad_id\", \"string\")\\\n",
    "        .add(\"ad_group_id\", \"string\")\\\n",
    "        .add(\"ad_group_payment_type\", \"string\")\\\n",
    "        .add(\"consumer_id\", \"string\")\\\n",
    "        .add(\"request_type\", \"string\")\\\n",
    "        .add(\"placement_id\", \"string\")\\\n",
    "        .add(\"cpu\", \"string\")\\\n",
    "        .add(\"conversion_id\", \"string\")\\\n",
    "        .add(\"client_impression_tracking\", \"string\")\\\n",
    "        .add(\"banner_id\", \"string\")\\\n",
    "        .add(\"banner_details_id\", \"string\")\\\n",
    "        .add(\"video_id\", \"string\")\\\n",
    "        .add(\"datekey\", \"string\")\\\n",
    "        .add(\"request_id\", \"string\")\\\n",
    "        .add(\"allocation\", \"string\")\\\n",
    "        .add(\"rtb_bid_price\", \"string\")\\\n",
    "        .add(\"rtb_auction_price\", \"string\")\\\n",
    "        .add(\"rtb_auction_unit\", \"string\")\\\n",
    "        .add(\"rtb_bid_id\", \"string\")\\\n",
    "        .add(\"rtb_bid_impression_id\", \"string\")\\\n",
    "        .add(\"is_behavioral_targeted\", \"string\")\\\n",
    "        .add(\"assigned_hhid\", \"string\")\\\n",
    "        .add(\"assigned_hhid_dma\", \"string\")\\\n",
    "        .add(\"parent_adgroup_id\", \"string\")\\\n",
    "        .add(\"external_hhid\", \"string\")\\\n",
    "        .add(\"matched_deal_id\", \"string\")\\\n",
    "        .add(\"matched_datasource_segments\", \"string\")\\\n",
    "        .add(\"matched_device_segments\", \"string\")\\\n",
    "        .add(\"referer_url\", \"string\")\\\n",
    "        .add(\"viewability_tag_added\", \"string\")\\\n",
    "        .add(\"ip_addresses\", \"string\")\n",
    "\n",
    "    # Use the same schema as defined previously\n",
    "    df = spark.createDataFrame(data, schema=event_schema)\n",
    "    df.write.mode(\"append\").saveAsTable(f\"{catalog_dot_database_name}.events\")\n"
   ]
  },
  {
   "cell_type": "code",
   "execution_count": 0,
   "metadata": {
    "application/vnd.databricks.v1+cell": {
     "cellMetadata": {
      "byteLimit": 2048000,
      "rowLimit": 10000
     },
     "inputWidgets": {},
     "nuid": "e87f21c5-8792-4122-bf9f-4185c214755f",
     "showTitle": false,
     "tableResultSettingsMap": {},
     "title": ""
    }
   },
   "outputs": [],
   "source": [
    "while True:\n",
    "    generate_data(catalog_dot_database_name=catalog_dot_database_name)\n",
    "    time.sleep(60)"
   ]
  },
  {
   "cell_type": "code",
   "execution_count": 0,
   "metadata": {
    "application/vnd.databricks.v1+cell": {
     "cellMetadata": {
      "byteLimit": 2048000,
      "rowLimit": 10000
     },
     "inputWidgets": {},
     "nuid": "1e62dd26-7025-474d-93ff-22f35d99567b",
     "showTitle": false,
     "tableResultSettingsMap": {},
     "title": ""
    }
   },
   "outputs": [],
   "source": [
    "display(\n",
    "    spark.sql(f\"\"\"\n",
    "        select min(event_ts), max(event_ts)\n",
    "        from {catalog_dot_database_name}.events\n",
    "\"\"\")\n",
    ")"
   ]
  },
  {
   "cell_type": "code",
   "execution_count": 0,
   "metadata": {
    "application/vnd.databricks.v1+cell": {
     "cellMetadata": {
      "byteLimit": 2048000,
      "implicitDf": true,
      "rowLimit": 10000
     },
     "inputWidgets": {},
     "nuid": "9b9b9aa1-92dc-4a75-9ffd-3b0c741c7d47",
     "showTitle": false,
     "tableResultSettingsMap": {},
     "title": ""
    }
   },
   "outputs": [],
   "source": [
    "%sql\n",
    "select * from my_catalog.events.events"
   ]
  }
 ],
 "metadata": {
  "application/vnd.databricks.v1+notebook": {
   "computePreferences": null,
   "dashboards": [],
   "environmentMetadata": {
    "base_environment": "",
    "environment_version": "2"
   },
   "inputWidgetPreferences": null,
   "language": "python",
   "notebookMetadata": {
    "mostRecentlyExecutedCommandWithImplicitDF": {
     "commandId": 8181869733906372,
     "dataframes": [
      "_sqldf"
     ]
    },
    "pythonIndentUnit": 4
   },
   "notebookName": "1. spark_stream_aggregations_update_generate_events.py",
   "widgets": {}
  },
  "language_info": {
   "name": "python"
  }
 },
 "nbformat": 4,
 "nbformat_minor": 0
}
