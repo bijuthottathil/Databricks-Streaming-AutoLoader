{
 "cells": [
  {
   "cell_type": "code",
   "execution_count": 0,
   "metadata": {
    "application/vnd.databricks.v1+cell": {
     "cellMetadata": {
      "byteLimit": 2048000,
      "rowLimit": 10000
     },
     "inputWidgets": {},
     "nuid": "6599af5d-c4d8-4d47-8621-d1788429b322",
     "showTitle": false,
     "tableResultSettingsMap": {},
     "title": ""
    }
   },
   "outputs": [],
   "source": [
    "dbutils.widgets.text(name=\"env\",defaultValue='',label='Enter the environment in lower case')\n",
    "env = dbutils.widgets.get(\"env\")"
   ]
  },
  {
   "cell_type": "code",
   "execution_count": 0,
   "metadata": {
    "application/vnd.databricks.v1+cell": {
     "cellMetadata": {
      "byteLimit": 2048000,
      "rowLimit": 10000
     },
     "inputWidgets": {},
     "nuid": "828989e6-85ee-4a0c-a594-a92ea2264f2d",
     "showTitle": false,
     "tableResultSettingsMap": {},
     "title": ""
    }
   },
   "outputs": [],
   "source": [
    "checkpoint= \"abfss://checkpoint@adlsexamplebiju.dfs.core.windows.net\"  \n",
    "output_path= \"abfss://output@adlsexamplebiju.dfs.core.windows.net\" \n",
    "landing = \"abfss://landing@adlsexamplebiju.dfs.core.windows.net\"\n"
   ]
  },
  {
   "cell_type": "code",
   "execution_count": 0,
   "metadata": {
    "application/vnd.databricks.v1+cell": {
     "cellMetadata": {
      "byteLimit": 2048000,
      "rowLimit": 10000
     },
     "inputWidgets": {},
     "nuid": "315ac383-698e-498d-a669-b5d74e223fb8",
     "showTitle": false,
     "tableResultSettingsMap": {},
     "title": ""
    }
   },
   "outputs": [],
   "source": [
    "def read_traffic_data():\n",
    "    from pyspark.sql.types import StructType, StructField, StringType, IntegerType, DoubleType,DateType\n",
    "    from pyspark.sql.functions import current_timestamp\n",
    "    print(\"****Reading Traffic Data****\")\n",
    "    schema = StructType([\n",
    "        StructField(\"Record_ID\",IntegerType()),\n",
    "        StructField(\"Count_point_id\",IntegerType()),\n",
    "        StructField(\"Direction_of_travel\",StringType()),\n",
    "        StructField(\"Year\",IntegerType()),\n",
    "        StructField(\"Count_date\",StringType()),\n",
    "        StructField(\"hour\",IntegerType()),\n",
    "        StructField(\"Region_id\",IntegerType()),\n",
    "        StructField(\"Region_name\",StringType()),\n",
    "        StructField(\"Local_authority_name\",StringType()),\n",
    "        StructField(\"Road_name\",StringType()),\n",
    "        StructField(\"Road_Category_ID\",IntegerType()),\n",
    "        StructField(\"Start_junction_road_name\",StringType()),\n",
    "        StructField(\"End_junction_road_name\",StringType()),\n",
    "        StructField(\"Latitude\",DoubleType()),\n",
    "        StructField(\"Longitude\",DoubleType()),\n",
    "        StructField(\"Link_length_km\",DoubleType()),\n",
    "        StructField(\"Pedal_cycles\",IntegerType()),\n",
    "        StructField(\"Two_wheeled_motor_vehicles\",IntegerType()),\n",
    "        StructField(\"Cars_and_taxis\",IntegerType()),\n",
    "        StructField(\"Buses_and_coaches\",IntegerType()),\n",
    "        StructField(\"LGV_Type\",IntegerType()),\n",
    "        StructField(\"HGV_Type\",IntegerType()),\n",
    "        StructField(\"EV_Car\",IntegerType()),\n",
    "        StructField(\"EV_Bike\",IntegerType())\n",
    "    ])\n",
    "    rawTraffic_stream = (spark.readStream.format(\"cloudFiles\")\n",
    "    .option(\"cloudFiles.format\",\"csv\")\n",
    "    .option(\"cloudFiles.schemaLocation\",f\"{checkpoint}/rawTrafficLoad/schemaInfer\")\n",
    "    .option(\"header\",\"true\")\n",
    "    .schema(schema)\n",
    "    .load(landing+'/raw_traffic/')\n",
    "    .withColumn(\"Extract_Time\", current_timestamp()))\n",
    "    print(\"****Reading success****\")\n",
    "    return rawTraffic_stream"
   ]
  },
  {
   "cell_type": "code",
   "execution_count": 0,
   "metadata": {
    "application/vnd.databricks.v1+cell": {
     "cellMetadata": {
      "byteLimit": 2048000,
      "rowLimit": 10000
     },
     "inputWidgets": {},
     "nuid": "f7937dba-1b5f-4055-9760-24f5331600d3",
     "showTitle": false,
     "tableResultSettingsMap": {},
     "title": ""
    }
   },
   "outputs": [],
   "source": [
    "read_traffic= read_traffic_data()"
   ]
  },
  {
   "cell_type": "code",
   "execution_count": 0,
   "metadata": {
    "application/vnd.databricks.v1+cell": {
     "cellMetadata": {
      "byteLimit": 2048000,
      "rowLimit": 10000
     },
     "inputWidgets": {},
     "nuid": "0c67c6b6-1509-43d0-80e4-4b9fa3f576aa",
     "showTitle": false,
     "tableResultSettingsMap": {},
     "title": ""
    }
   },
   "outputs": [],
   "source": [
    "# COMMAND ----------\n",
    "\n",
    "# MAGIC %md\n",
    "# MAGIC ### write_traffic_data\n",
    "\n",
    "# COMMAND ----------\n",
    "\n",
    "def write_traffic_data(streamingDf,environment):\n",
    "    print(\"****write traffic data****\")\n",
    "    write_stream = (streamingDf.writeStream.format(\"delta\")\n",
    "    .option(\"checkpointLocation\", f\"{checkpoint}/rawTrafficLoad/checkpoint\")\n",
    "    .outputMode(\"append\")\n",
    "    .queryName('rawTrafficWriteStream')\n",
    "    .trigger(availableNow=True)\n",
    "    .toTable(f\"my_catalog.bronze.raw_traffic\"))\n",
    "    write_stream.awaitTermination()\n",
    "    print(\"****writing success****\")\n"
   ]
  },
  {
   "cell_type": "code",
   "execution_count": 0,
   "metadata": {
    "application/vnd.databricks.v1+cell": {
     "cellMetadata": {
      "byteLimit": 2048000,
      "rowLimit": 10000
     },
     "inputWidgets": {},
     "nuid": "86489062-3083-4406-96f1-98bf3f9e121a",
     "showTitle": false,
     "tableResultSettingsMap": {},
     "title": ""
    }
   },
   "outputs": [],
   "source": [
    "write_traffic_data(read_traffic,env)"
   ]
  },
  {
   "cell_type": "code",
   "execution_count": 0,
   "metadata": {
    "application/vnd.databricks.v1+cell": {
     "cellMetadata": {
      "byteLimit": 2048000,
      "rowLimit": 10000
     },
     "inputWidgets": {},
     "nuid": "eb753fed-b491-45db-aa32-b319a83446aa",
     "showTitle": false,
     "tableResultSettingsMap": {},
     "title": ""
    }
   },
   "outputs": [],
   "source": [
    "def read_roads_data():\n",
    "    from pyspark.sql.types import StructType, StructField, StringType, IntegerType, DoubleType\n",
    "    from pyspark.sql.functions import current_timestamp\n",
    "    print(\"****Reading Roads Data****\")\n",
    "    schema = StructType([\n",
    "            StructField('Road_ID',IntegerType()),\n",
    "            StructField('Road_Category_Id',IntegerType()),\n",
    "            StructField('Road_Category',StringType()),\n",
    "            StructField('Region_ID',IntegerType()),\n",
    "            StructField('Region_Name',StringType()),\n",
    "            StructField('Total_Link_Length_Km',DoubleType()),\n",
    "            StructField('Total_Link_Length_Miles',DoubleType()),\n",
    "            StructField('All_Motor_Vehicles',DoubleType())\n",
    "            \n",
    "            ])\n",
    "    rawRoads_stream = (spark.readStream.format(\"cloudFiles\")\n",
    "    .option(\"cloudFiles.format\",\"csv\")\n",
    "    .option(\"cloudFiles.schemaLocation\",f\"{checkpoint}/rawRoadsLoad/schemaInfer\")\n",
    "    .option('header','true')\n",
    "    .schema(schema)\n",
    "    .load(landing+'/raw_road/')\n",
    "    .withColumn(\"Extract_Time\", current_timestamp()))\n",
    "    print(\"****Reading success****\")\n",
    "    return rawRoads_stream"
   ]
  },
  {
   "cell_type": "code",
   "execution_count": 0,
   "metadata": {
    "application/vnd.databricks.v1+cell": {
     "cellMetadata": {
      "byteLimit": 2048000,
      "rowLimit": 10000
     },
     "inputWidgets": {},
     "nuid": "317b7025-928e-4849-95c1-81bc258b6c24",
     "showTitle": false,
     "tableResultSettingsMap": {},
     "title": ""
    }
   },
   "outputs": [],
   "source": [
    "def write_roads_data(streamingDf,environment):\n",
    "    print(\"****write roads data****\")\n",
    "    write_stream = (streamingDf.writeStream.format(\"delta\")\n",
    "                    .option(\"checkpointLocation\", f\"{checkpoint}/rawRoadsLoad/checkpoint\")\n",
    "                    .outputMode(\"append\")\n",
    "                    .queryName('rawRoadsWriteStream')\n",
    "                    .trigger(availableNow=True)\n",
    "                    .toTable(f\"my_catalog.bronze.raw_roads\"))\n",
    "    write_stream.awaitTermination()\n",
    "    print(\"****writing success****\")"
   ]
  },
  {
   "cell_type": "code",
   "execution_count": 0,
   "metadata": {
    "application/vnd.databricks.v1+cell": {
     "cellMetadata": {
      "byteLimit": 2048000,
      "rowLimit": 10000
     },
     "inputWidgets": {},
     "nuid": "8340961f-7bdd-40ec-abb4-897e3f1118b2",
     "showTitle": false,
     "tableResultSettingsMap": {},
     "title": ""
    }
   },
   "outputs": [],
   "source": [
    "read_roads = read_roads_data()\n",
    "\n"
   ]
  },
  {
   "cell_type": "code",
   "execution_count": 0,
   "metadata": {
    "application/vnd.databricks.v1+cell": {
     "cellMetadata": {
      "byteLimit": 2048000,
      "rowLimit": 10000
     },
     "inputWidgets": {},
     "nuid": "b3fca857-bf7b-4269-ac7a-1e7efcad031b",
     "showTitle": false,
     "tableResultSettingsMap": {},
     "title": ""
    }
   },
   "outputs": [],
   "source": [
    "write_roads_data(read_roads,env)"
   ]
  },
  {
   "cell_type": "code",
   "execution_count": 0,
   "metadata": {
    "application/vnd.databricks.v1+cell": {
     "cellMetadata": {
      "byteLimit": 2048000,
      "implicitDf": true,
      "rowLimit": 10000
     },
     "inputWidgets": {},
     "nuid": "df6017a0-c1f6-4ee1-9d0f-7ec75e309469",
     "showTitle": false,
     "tableResultSettingsMap": {},
     "title": ""
    }
   },
   "outputs": [],
   "source": [
    "%sql\n",
    "SELECT count(1) FROM my_catalog.bronze.raw_roads"
   ]
  },
  {
   "cell_type": "code",
   "execution_count": 0,
   "metadata": {
    "application/vnd.databricks.v1+cell": {
     "cellMetadata": {
      "byteLimit": 2048000,
      "implicitDf": true,
      "rowLimit": 10000
     },
     "inputWidgets": {},
     "nuid": "d7f631ea-03a2-4bd9-9499-c9733b29df18",
     "showTitle": false,
     "tableResultSettingsMap": {},
     "title": ""
    }
   },
   "outputs": [],
   "source": [
    "%sql\n",
    "SELECT count(1) FROM my_catalog.bronze.raw_traffic"
   ]
  }
 ],
 "metadata": {
  "application/vnd.databricks.v1+notebook": {
   "computePreferences": null,
   "dashboards": [],
   "environmentMetadata": {
    "base_environment": "",
    "environment_version": "2"
   },
   "inputWidgetPreferences": null,
   "language": "python",
   "notebookMetadata": {
    "mostRecentlyExecutedCommandWithImplicitDF": {
     "commandId": 8232652483429721,
     "dataframes": [
      "_sqldf"
     ]
    },
    "pythonIndentUnit": 4
   },
   "notebookName": "02_load_to_bronze.py",
   "widgets": {
    "env": {
     "currentValue": "",
     "nuid": "0b55daff-8a50-4dd9-a52b-830ec20b2eda",
     "typedWidgetInfo": {
      "autoCreated": false,
      "defaultValue": "",
      "label": "Enter the environment in lower case",
      "name": "env",
      "options": {
       "widgetDisplayType": "Text",
       "validationRegex": null
      },
      "parameterDataType": "String"
     },
     "widgetInfo": {
      "widgetType": "text",
      "defaultValue": "",
      "label": "Enter the environment in lower case",
      "name": "env",
      "options": {
       "widgetType": "text",
       "autoCreated": null,
       "validationRegex": null
      }
     }
    }
   }
  },
  "language_info": {
   "name": "python"
  }
 },
 "nbformat": 4,
 "nbformat_minor": 0
}
